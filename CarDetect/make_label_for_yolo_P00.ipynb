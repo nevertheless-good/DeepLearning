{
 "cells": [
  {
   "cell_type": "code",
   "execution_count": 1,
   "id": "801ebc60",
   "metadata": {},
   "outputs": [],
   "source": [
    "import os\n",
    "from PIL import Image\n",
    "import time\n",
    "import json\n",
    "import yaml"
   ]
  },
  {
   "cell_type": "code",
   "execution_count": 66,
   "id": "f5a1d356",
   "metadata": {},
   "outputs": [],
   "source": [
    "# Image Resize (width: 640): 너무 작다.\n",
    "\n",
    "def resize_image_to_width_640(filename):\n",
    "    with Image.open(filename) as img:\n",
    "        width, height = img.size\n",
    "        ratio = height / width\n",
    "        \n",
    "        new_width = 640\n",
    "        new_height = int(ratio * new_width)\n",
    "\n",
    "        # Image.Dither.None 옵션을 사용하여 속도 약 2배 빨라짐\n",
    "        im_resize = img.resize((new_width, new_height), Image.Dither.NONE)\n",
    "\n",
    "    os.remove(filename)\n",
    "    im_resize.save(filename)"
   ]
  },
  {
   "cell_type": "code",
   "execution_count": 69,
   "id": "f7d954d1",
   "metadata": {},
   "outputs": [],
   "source": [
    "# Image Resize (height: 640)\n",
    "\n",
    "def resize_image_to_height_640(filename):\n",
    "    with Image.open(filename) as img:\n",
    "        width, height = img.size\n",
    "        ratio = width / height\n",
    "        \n",
    "        new_height = 640\n",
    "        new_width = int(ratio * new_height)\n",
    "\n",
    "        # Image.Dither.None 옵션을 사용하여 속도 약 2배 빨라짐\n",
    "        im_resize = img.resize((new_width, new_height), Image.Dither.NONE)\n",
    "\n",
    "    os.remove(filename)\n",
    "    im_resize.save(filename)"
   ]
  },
  {
   "cell_type": "code",
   "execution_count": 70,
   "id": "f49ab573",
   "metadata": {},
   "outputs": [],
   "source": [
    "# Images Resize by recursive\n",
    "\n",
    "def resize_images_recursive(src):\n",
    "    filenames = os.listdir(src)\n",
    "\n",
    "    for filename in filenames:\n",
    "        if os.path.isdir(os.path.join(src, filename)):\n",
    "            resize_images_recursive(os.path.join(src, filename))\n",
    "            \n",
    "        if os.path.isfile(os.path.join(src, filename)):\n",
    "            if filename != '.DS_Store':\n",
    "                if os.path.splitext(filename)[1] == '.jpg':\n",
    "                    resize_image_to_height_640(os.path.join(src, filename))"
   ]
  },
  {
   "cell_type": "code",
   "execution_count": 72,
   "id": "e3c805e7",
   "metadata": {},
   "outputs": [
    {
     "name": "stdout",
     "output_type": "stream",
     "text": [
      "time : 7316.926134109497\n"
     ]
    }
   ],
   "source": [
    "# Resize Train Data\n",
    "\n",
    "start = time.time()\n",
    "resize_images_recursive('./data/train/원천데이터')\n",
    "print(\"time :\", time.time() - start)"
   ]
  },
  {
   "cell_type": "code",
   "execution_count": 71,
   "id": "71004f36",
   "metadata": {},
   "outputs": [
    {
     "name": "stdout",
     "output_type": "stream",
     "text": [
      "time : 910.5802710056305\n"
     ]
    }
   ],
   "source": [
    "# Resize Validation Data\n",
    "\n",
    "start = time.time()\n",
    "resize_images_recursive('./data/validation/원천데이터')\n",
    "print(\"time :\", time.time() - start)"
   ]
  },
  {
   "cell_type": "code",
   "execution_count": null,
   "id": "2ef8cfe1",
   "metadata": {},
   "outputs": [],
   "source": []
  },
  {
   "cell_type": "code",
   "execution_count": null,
   "id": "9f9eaa75",
   "metadata": {},
   "outputs": [],
   "source": [
    "all_parts = { \"P00\":\"차량전체\", \"P01\":\"프론트범퍼\", \"P02\":\"리어범퍼\", \"P03\":\"타이어(휠)\", \"P04\":\"A필러\",\n",
    "       \"P05\":\"C필러\", \"P06\":\"사이드미러\", \"P07\":\"앞도어\", \"P08\":\"뒷도어\", \"P09\":\"라디에이터그릴\",\n",
    "       \"P10\":\"헤드램프\", \"P11\":\"리어램프\", \"P12\":\"보닛\", \"P13\":\"트렁크\", \"P14\":\"루프\", }"
   ]
  },
  {
   "cell_type": "code",
   "execution_count": 2,
   "id": "94f5c286",
   "metadata": {},
   "outputs": [],
   "source": [
    "ignore_parts = [\"P01\", \"P02\", \"P03\", \"P04\", \"P05\", \"P06\", \"P07\", \"P08\", \"P10\", \"P11\", \"P12\", \"P13\", \"P14\"]"
   ]
  },
  {
   "cell_type": "code",
   "execution_count": null,
   "id": "97221b96",
   "metadata": {},
   "outputs": [],
   "source": []
  },
  {
   "cell_type": "code",
   "execution_count": null,
   "id": "ff9ecb45",
   "metadata": {},
   "outputs": [],
   "source": []
  },
  {
   "cell_type": "code",
   "execution_count": 3,
   "id": "37712e59",
   "metadata": {},
   "outputs": [],
   "source": [
    "# Get Classes List\n",
    "\n",
    "model_classes = []\n",
    "\n",
    "def get_model_classes(src):\n",
    "    with open(src, 'r') as jess:\n",
    "        jess_dict = json.load(jess)\n",
    "        \n",
    "    for obj in jess_dict['learningDataInfo']['objects']:\n",
    "        classID = obj['classId'].split('.')[0]\n",
    "        if classID not in ignore_parts:\n",
    "            rawDataID = jess_dict['rawDataInfo']['rawDataID'][9:15]\n",
    "            if rawDataID not in model_classes:\n",
    "                model_classes.append(rawDataID)\n",
    "            break"
   ]
  },
  {
   "cell_type": "code",
   "execution_count": 4,
   "id": "f19ce48a",
   "metadata": {},
   "outputs": [],
   "source": [
    "# Get Classes List by recursive\n",
    "\n",
    "def get_classes_recursive(src):\n",
    "    filenames = os.listdir(src)\n",
    "\n",
    "    for filename in filenames:\n",
    "        if os.path.isdir(os.path.join(src, filename)):\n",
    "            get_classes_recursive(os.path.join(src, filename))\n",
    "            \n",
    "        if os.path.isfile(os.path.join(src, filename)):\n",
    "            if filename != '.DS_Store':\n",
    "                if os.path.splitext(filename)[1] == '.json':\n",
    "                    get_model_classes(os.path.join(src, filename))"
   ]
  },
  {
   "cell_type": "code",
   "execution_count": 5,
   "id": "80e56b38",
   "metadata": {},
   "outputs": [
    {
     "name": "stdout",
     "output_type": "stream",
     "text": [
      "time : 61.993377923965454\n"
     ]
    }
   ],
   "source": [
    "# Get Classes\n",
    "\n",
    "start = time.time()\n",
    "get_classes_recursive('./YOLO_DATA_P00/data/train/labels')\n",
    "print(\"time :\", time.time() - start)"
   ]
  },
  {
   "cell_type": "code",
   "execution_count": 6,
   "id": "0c405dd1",
   "metadata": {},
   "outputs": [
    {
     "data": {
      "text/plain": [
       "'KI_056'"
      ]
     },
     "execution_count": 6,
     "metadata": {},
     "output_type": "execute_result"
    }
   ],
   "source": [
    "model_classes[0]"
   ]
  },
  {
   "cell_type": "code",
   "execution_count": 7,
   "id": "5af8b0b2",
   "metadata": {},
   "outputs": [
    {
     "data": {
      "text/plain": [
       "'HY_025'"
      ]
     },
     "execution_count": 7,
     "metadata": {},
     "output_type": "execute_result"
    }
   ],
   "source": [
    "sorted_model_classes = sorted(model_classes)\n",
    "sorted_model_classes[0]"
   ]
  },
  {
   "cell_type": "code",
   "execution_count": 8,
   "id": "e2ba395d",
   "metadata": {},
   "outputs": [
    {
     "data": {
      "text/plain": [
       "32"
      ]
     },
     "execution_count": 8,
     "metadata": {},
     "output_type": "execute_result"
    }
   ],
   "source": [
    "len(sorted_model_classes)"
   ]
  },
  {
   "cell_type": "code",
   "execution_count": null,
   "id": "263f47c5",
   "metadata": {},
   "outputs": [],
   "source": []
  },
  {
   "cell_type": "code",
   "execution_count": null,
   "id": "2a4ebfe6",
   "metadata": {},
   "outputs": [],
   "source": []
  },
  {
   "cell_type": "code",
   "execution_count": null,
   "id": "83bb73e0",
   "metadata": {},
   "outputs": [],
   "source": []
  },
  {
   "cell_type": "code",
   "execution_count": 9,
   "id": "27ab0267",
   "metadata": {},
   "outputs": [],
   "source": [
    "# Make Label with parts\n",
    "\n",
    "def make_label_with_parts(src):\n",
    "    with open(src, 'r') as jess:\n",
    "        jess_dict = json.load(jess)\n",
    "    \n",
    "    rawDataID = jess_dict['rawDataInfo']['rawDataID'][9:15]\n",
    "    resolution = jess_dict['rawDataInfo']['resolution']\n",
    "    width, height = int(resolution.split('*')[0]), int(resolution.split('*')[1])\n",
    "    \n",
    "    used_class_id = 0\n",
    "    with open(os.path.splitext(src)[0]+'.txt', 'w') as f:\n",
    "        for obj in jess_dict['learningDataInfo']['objects']:\n",
    "            classID = obj['classId'].split('.')[0]\n",
    "            if classID not in ignore_parts:\n",
    "                used_class_id += 1\n",
    "                cx = (int(obj['coords']['tl']['x']) + int(obj['coords']['tr']['x'])) / 2 / width\n",
    "                cy = (int(obj['coords']['tl']['y']) + int(obj['coords']['bl']['y'])) / 2 / height\n",
    "                w = (int(obj['coords']['tr']['x']) - int(obj['coords']['tl']['x'])) / width\n",
    "                h = (int(obj['coords']['bl']['y']) - int(obj['coords']['tl']['y'])) / height\n",
    "\n",
    "                txt = str(sorted_model_classes.index(rawDataID)) + ' ' + str(cx) + ' ' + str(cy) + ' ' + str(w) + ' ' + str(h) + '\\n'\n",
    "\n",
    "                f.write(txt)    \n",
    "                \n",
    "    if used_class_id == 0:\n",
    "        os.remove(os.path.splitext(src)[0]+'.txt')\n",
    "        img_path = os.path.splitext(src)[0].replace(\"labels\", \"images\")\n",
    "        os.remove(img_path+'.jpg')\n",
    "    \n",
    "    os.remove(src)"
   ]
  },
  {
   "cell_type": "code",
   "execution_count": 10,
   "id": "58745561",
   "metadata": {},
   "outputs": [],
   "source": [
    "# Make Labels with parts by recursive\n",
    "\n",
    "def make_labels_with_parts_recursive(src):\n",
    "    filenames = os.listdir(src)\n",
    "\n",
    "    for filename in filenames:\n",
    "        if os.path.isdir(os.path.join(src, filename)):\n",
    "            make_labels_with_parts_recursive(os.path.join(src, filename))\n",
    "            \n",
    "        if os.path.isfile(os.path.join(src, filename)):\n",
    "            if filename != '.DS_Store':\n",
    "                if os.path.splitext(filename)[1] == '.json':\n",
    "                    make_label_with_parts(os.path.join(src, filename))"
   ]
  },
  {
   "cell_type": "code",
   "execution_count": 12,
   "id": "6f71a91b",
   "metadata": {},
   "outputs": [
    {
     "name": "stdout",
     "output_type": "stream",
     "text": [
      "time : 139.82278180122375\n"
     ]
    }
   ],
   "source": [
    "# Make Labels for train\n",
    "\n",
    "start = time.time()\n",
    "make_labels_with_parts_recursive('./YOLO_DATA_P00/data/train/labels')\n",
    "print(\"time :\", time.time() - start)"
   ]
  },
  {
   "cell_type": "code",
   "execution_count": 11,
   "id": "fe1b7764",
   "metadata": {},
   "outputs": [
    {
     "name": "stdout",
     "output_type": "stream",
     "text": [
      "time : 20.765110969543457\n"
     ]
    }
   ],
   "source": [
    "# Make Labels for validation\n",
    "\n",
    "start = time.time()\n",
    "make_labels_with_parts_recursive('./YOLO_DATA_P00/data/validation/labels')\n",
    "print(\"time :\", time.time() - start)"
   ]
  },
  {
   "cell_type": "code",
   "execution_count": null,
   "id": "e8e0c0e9",
   "metadata": {},
   "outputs": [],
   "source": []
  },
  {
   "cell_type": "code",
   "execution_count": null,
   "id": "b408f20b",
   "metadata": {},
   "outputs": [],
   "source": []
  },
  {
   "cell_type": "code",
   "execution_count": null,
   "id": "efe80cfa",
   "metadata": {},
   "outputs": [],
   "source": []
  },
  {
   "cell_type": "code",
   "execution_count": null,
   "id": "b7c668b5",
   "metadata": {},
   "outputs": [],
   "source": []
  },
  {
   "cell_type": "code",
   "execution_count": 13,
   "id": "4ab3b49d",
   "metadata": {},
   "outputs": [],
   "source": [
    "# Make dict from sorted_model_classes\n",
    "\n",
    "dict_classes = {i : c for i, c in enumerate(sorted_model_classes)}"
   ]
  },
  {
   "cell_type": "code",
   "execution_count": 14,
   "id": "ad49c095",
   "metadata": {},
   "outputs": [],
   "source": [
    "# Make yaml file for YOLOv5\n",
    "\n",
    "yaml_file = './YOLO_DATA_P00/data/car_model_P00.yaml'\n",
    "\n",
    "yaml_data = dict(\n",
    "    path = \"YOLO_DATA_P00/data\",\n",
    "    train = \"train\",\n",
    "    val = \"validation\",\n",
    "    nc = len(dict_classes),\n",
    "    names = dict_classes\n",
    ")\n",
    "\n",
    "with open(yaml_file, 'w') as f:\n",
    "    yaml.dump(yaml_data, f, explicit_start = True, default_flow_style = False)"
   ]
  },
  {
   "cell_type": "code",
   "execution_count": 15,
   "id": "07b6b883",
   "metadata": {},
   "outputs": [
    {
     "data": {
      "text/plain": [
       "{0: 'HY_025',\n",
       " 1: 'HY_041',\n",
       " 2: 'HY_042',\n",
       " 3: 'HY_050',\n",
       " 4: 'HY_053',\n",
       " 5: 'HY_054',\n",
       " 6: 'HY_058',\n",
       " 7: 'HY_063',\n",
       " 8: 'HY_064',\n",
       " 9: 'HY_067',\n",
       " 10: 'HY_069',\n",
       " 11: 'HY_073',\n",
       " 12: 'HY_083',\n",
       " 13: 'HY_091',\n",
       " 14: 'HY_098',\n",
       " 15: 'HY_099',\n",
       " 16: 'KI_026',\n",
       " 17: 'KI_027',\n",
       " 18: 'KI_028',\n",
       " 19: 'KI_029',\n",
       " 20: 'KI_043',\n",
       " 21: 'KI_047',\n",
       " 22: 'KI_051',\n",
       " 23: 'KI_052',\n",
       " 24: 'KI_056',\n",
       " 25: 'KI_057',\n",
       " 26: 'KI_059',\n",
       " 27: 'KI_060',\n",
       " 28: 'KI_062',\n",
       " 29: 'KI_065',\n",
       " 30: 'KI_066',\n",
       " 31: 'KI_079'}"
      ]
     },
     "execution_count": 15,
     "metadata": {},
     "output_type": "execute_result"
    }
   ],
   "source": [
    "dict_classes"
   ]
  },
  {
   "cell_type": "code",
   "execution_count": null,
   "id": "06cc2683",
   "metadata": {},
   "outputs": [],
   "source": []
  }
 ],
 "metadata": {
  "kernelspec": {
   "display_name": "deepLearning",
   "language": "python",
   "name": "deeplearning"
  },
  "language_info": {
   "codemirror_mode": {
    "name": "ipython",
    "version": 3
   },
   "file_extension": ".py",
   "mimetype": "text/x-python",
   "name": "python",
   "nbconvert_exporter": "python",
   "pygments_lexer": "ipython3",
   "version": "3.8.13"
  }
 },
 "nbformat": 4,
 "nbformat_minor": 5
}
