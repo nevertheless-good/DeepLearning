{
 "cells": [
  {
   "cell_type": "code",
   "execution_count": 3,
   "id": "801ebc60",
   "metadata": {},
   "outputs": [],
   "source": [
    "import os\n",
    "from PIL import Image\n",
    "import time\n",
    "import json\n",
    "import yaml"
   ]
  },
  {
   "cell_type": "code",
   "execution_count": 66,
   "id": "f5a1d356",
   "metadata": {},
   "outputs": [],
   "source": [
    "# Image Resize (width: 640): 너무 작다.\n",
    "\n",
    "def resize_image_to_width_640(filename):\n",
    "    with Image.open(filename) as img:\n",
    "        width, height = img.size\n",
    "        ratio = height / width\n",
    "        \n",
    "        new_width = 640\n",
    "        new_height = int(ratio * new_width)\n",
    "\n",
    "        # Image.Dither.None 옵션을 사용하여 속도 약 2배 빨라짐\n",
    "        im_resize = img.resize((new_width, new_height), Image.Dither.NONE)\n",
    "\n",
    "    os.remove(filename)\n",
    "    im_resize.save(filename)"
   ]
  },
  {
   "cell_type": "code",
   "execution_count": 69,
   "id": "f7d954d1",
   "metadata": {},
   "outputs": [],
   "source": [
    "# Image Resize (height: 640)\n",
    "\n",
    "def resize_image_to_height_640(filename):\n",
    "    with Image.open(filename) as img:\n",
    "        width, height = img.size\n",
    "        ratio = width / height\n",
    "        \n",
    "        new_height = 640\n",
    "        new_width = int(ratio * new_height)\n",
    "\n",
    "        # Image.Dither.None 옵션을 사용하여 속도 약 2배 빨라짐\n",
    "        im_resize = img.resize((new_width, new_height), Image.Dither.NONE)\n",
    "\n",
    "    os.remove(filename)\n",
    "    im_resize.save(filename)"
   ]
  },
  {
   "cell_type": "code",
   "execution_count": 70,
   "id": "f49ab573",
   "metadata": {},
   "outputs": [],
   "source": [
    "# Images Resize by recursive\n",
    "\n",
    "def resize_images_recursive(src):\n",
    "    filenames = os.listdir(src)\n",
    "\n",
    "    for filename in filenames:\n",
    "        if os.path.isdir(os.path.join(src, filename)):\n",
    "            resize_images_recursive(os.path.join(src, filename))\n",
    "            \n",
    "        if os.path.isfile(os.path.join(src, filename)):\n",
    "            if filename != '.DS_Store':\n",
    "                if os.path.splitext(filename)[1] == '.jpg':\n",
    "                    resize_image_to_height_640(os.path.join(src, filename))"
   ]
  },
  {
   "cell_type": "code",
   "execution_count": 72,
   "id": "e3c805e7",
   "metadata": {},
   "outputs": [
    {
     "name": "stdout",
     "output_type": "stream",
     "text": [
      "time : 7316.926134109497\n"
     ]
    }
   ],
   "source": [
    "# Resize Train Data\n",
    "\n",
    "start = time.time()\n",
    "resize_images_recursive('./data/train/원천데이터')\n",
    "print(\"time :\", time.time() - start)"
   ]
  },
  {
   "cell_type": "code",
   "execution_count": 71,
   "id": "71004f36",
   "metadata": {},
   "outputs": [
    {
     "name": "stdout",
     "output_type": "stream",
     "text": [
      "time : 910.5802710056305\n"
     ]
    }
   ],
   "source": [
    "# Resize Validation Data\n",
    "\n",
    "start = time.time()\n",
    "resize_images_recursive('./data/validation/원천데이터')\n",
    "print(\"time :\", time.time() - start)"
   ]
  },
  {
   "cell_type": "code",
   "execution_count": null,
   "id": "2ef8cfe1",
   "metadata": {},
   "outputs": [],
   "source": []
  },
  {
   "cell_type": "code",
   "execution_count": 4,
   "id": "37712e59",
   "metadata": {},
   "outputs": [],
   "source": [
    "# Get Classes List\n",
    "\n",
    "model_classes = []\n",
    "\n",
    "def get_model_classes(src):\n",
    "    with open(src, 'r') as jess:\n",
    "        jess_dict = json.load(jess)\n",
    "        \n",
    "    rawDataID = jess_dict['rawDataInfo']['rawDataID'][9:18]\n",
    "    if rawDataID not in model_classes:\n",
    "        model_classes.append(rawDataID)"
   ]
  },
  {
   "cell_type": "code",
   "execution_count": 5,
   "id": "f19ce48a",
   "metadata": {},
   "outputs": [],
   "source": [
    "# Get Classes List by recursive\n",
    "\n",
    "def get_classes_recursive(src):\n",
    "    filenames = os.listdir(src)\n",
    "\n",
    "    for filename in filenames:\n",
    "        if os.path.isdir(os.path.join(src, filename)):\n",
    "            get_classes_recursive(os.path.join(src, filename))\n",
    "            \n",
    "        if os.path.isfile(os.path.join(src, filename)):\n",
    "            if filename != '.DS_Store':\n",
    "                if os.path.splitext(filename)[1] == '.json':\n",
    "                    get_model_classes(os.path.join(src, filename))"
   ]
  },
  {
   "cell_type": "code",
   "execution_count": 6,
   "id": "80e56b38",
   "metadata": {},
   "outputs": [
    {
     "name": "stdout",
     "output_type": "stream",
     "text": [
      "time : 31.181153059005737\n"
     ]
    }
   ],
   "source": [
    "# Get Classes\n",
    "\n",
    "start = time.time()\n",
    "get_classes_recursive('./data/train/labels')\n",
    "print(\"time :\", time.time() - start)"
   ]
  },
  {
   "cell_type": "code",
   "execution_count": 7,
   "id": "0c405dd1",
   "metadata": {},
   "outputs": [
    {
     "data": {
      "text/plain": [
       "'KI_056_17'"
      ]
     },
     "execution_count": 7,
     "metadata": {},
     "output_type": "execute_result"
    }
   ],
   "source": [
    "model_classes[0]"
   ]
  },
  {
   "cell_type": "code",
   "execution_count": 8,
   "id": "5af8b0b2",
   "metadata": {},
   "outputs": [
    {
     "data": {
      "text/plain": [
       "'HY_025_17'"
      ]
     },
     "execution_count": 8,
     "metadata": {},
     "output_type": "execute_result"
    }
   ],
   "source": [
    "sorted_model_classes = sorted(model_classes)\n",
    "sorted_model_classes[0]"
   ]
  },
  {
   "cell_type": "code",
   "execution_count": 9,
   "id": "e2ba395d",
   "metadata": {},
   "outputs": [
    {
     "data": {
      "text/plain": [
       "142"
      ]
     },
     "execution_count": 9,
     "metadata": {},
     "output_type": "execute_result"
    }
   ],
   "source": [
    "len(sorted_model_classes)"
   ]
  },
  {
   "cell_type": "code",
   "execution_count": null,
   "id": "263f47c5",
   "metadata": {},
   "outputs": [],
   "source": []
  },
  {
   "cell_type": "code",
   "execution_count": null,
   "id": "9c4daf37",
   "metadata": {},
   "outputs": [],
   "source": []
  },
  {
   "cell_type": "code",
   "execution_count": null,
   "id": "4f6070ed",
   "metadata": {},
   "outputs": [],
   "source": []
  },
  {
   "cell_type": "code",
   "execution_count": null,
   "id": "2a4ebfe6",
   "metadata": {},
   "outputs": [],
   "source": []
  },
  {
   "cell_type": "code",
   "execution_count": 1,
   "id": "b63706f0",
   "metadata": {},
   "outputs": [],
   "source": [
    "all_parts = { \"P00\":\"차량전체\", \"P01\":\"프론트범퍼\", \"P02\":\"리어범퍼\", \"P03\":\"타이어(휠)\", \"P04\":\"A필러\",\n",
    "       \"P05\":\"C필러\", \"P06\":\"사이드미러\", \"P07\":\"앞도어\", \"P08\":\"뒷도어\", \"P09\":\"라디에이터그릴\",\n",
    "       \"P10\":\"헤드램프\", \"P11\":\"리어램프\", \"P12\":\"보닛\", \"P13\":\"트렁크\", \"P14\":\"루프\", }"
   ]
  },
  {
   "cell_type": "code",
   "execution_count": 2,
   "id": "36e7d809",
   "metadata": {},
   "outputs": [],
   "source": [
    "ignore_parts = [\"P03\", \"P04\", \"P05\", \"P06\", \"P07\", \"P08\", \"P12\", \"P13\", \"P14\", ]"
   ]
  },
  {
   "cell_type": "code",
   "execution_count": null,
   "id": "83bb73e0",
   "metadata": {},
   "outputs": [],
   "source": []
  },
  {
   "cell_type": "code",
   "execution_count": 21,
   "id": "27ab0267",
   "metadata": {},
   "outputs": [],
   "source": [
    "# Make Label with parts\n",
    "\n",
    "def make_label_with_parts(src):\n",
    "    with open(src, 'r') as jess:\n",
    "        jess_dict = json.load(jess)\n",
    "    \n",
    "    rawDataID = jess_dict['rawDataInfo']['rawDataID'][9:18]\n",
    "    resolution = jess_dict['rawDataInfo']['resolution']\n",
    "    width, height = int(resolution.split('*')[0]), int(resolution.split('*')[1])\n",
    "    \n",
    "    used_class_id = 0\n",
    "    with open(os.path.splitext(src)[0]+'.txt', 'w') as f:\n",
    "        for obj in jess_dict['learningDataInfo']['objects']:\n",
    "            classID = obj['classId'].split('.')[0]\n",
    "            if classID not in ignore_parts:\n",
    "                used_class_id += 1\n",
    "                cx = (int(obj['coords']['tl']['x']) + int(obj['coords']['tr']['x'])) / 2 / width\n",
    "                cy = (int(obj['coords']['tl']['y']) + int(obj['coords']['bl']['y'])) / 2 / height\n",
    "                w = (int(obj['coords']['tr']['x']) - int(obj['coords']['tl']['x'])) / width\n",
    "                h = (int(obj['coords']['bl']['y']) - int(obj['coords']['tl']['y'])) / height\n",
    "\n",
    "                txt = str(sorted_model_classes.index(rawDataID)) + ' ' + str(cx) + ' ' + str(cy) + ' ' + str(w) + ' ' + str(h) + '\\n'\n",
    "\n",
    "                f.write(txt)    \n",
    "                \n",
    "    if used_class_id == 0:\n",
    "        os.remove(os.path.splitext(src)[0]+'.txt')\n",
    "        img_path = os.path.splitext(src)[0].replace(\"labels\", \"images\")\n",
    "        os.remove(img_path+'.jpg')\n",
    "    \n",
    "    os.remove(src)"
   ]
  },
  {
   "cell_type": "code",
   "execution_count": 22,
   "id": "58745561",
   "metadata": {},
   "outputs": [],
   "source": [
    "# Make Labels with parts by recursive\n",
    "\n",
    "def make_labels_with_parts_recursive(src):\n",
    "    filenames = os.listdir(src)\n",
    "\n",
    "    for filename in filenames:\n",
    "        if os.path.isdir(os.path.join(src, filename)):\n",
    "            make_labels_with_parts_recursive(os.path.join(src, filename))\n",
    "            \n",
    "        if os.path.isfile(os.path.join(src, filename)):\n",
    "            if filename != '.DS_Store':\n",
    "                if os.path.splitext(filename)[1] == '.json':\n",
    "                    make_label_with_parts(os.path.join(src, filename))"
   ]
  },
  {
   "cell_type": "code",
   "execution_count": 24,
   "id": "6f71a91b",
   "metadata": {},
   "outputs": [
    {
     "name": "stdout",
     "output_type": "stream",
     "text": [
      "time : 190.24099564552307\n"
     ]
    }
   ],
   "source": [
    "# Make Labels for train\n",
    "\n",
    "start = time.time()\n",
    "make_labels_with_parts_recursive('./data/train/labels')\n",
    "print(\"time :\", time.time() - start)"
   ]
  },
  {
   "cell_type": "code",
   "execution_count": 23,
   "id": "fe1b7764",
   "metadata": {},
   "outputs": [
    {
     "name": "stdout",
     "output_type": "stream",
     "text": [
      "time : 24.15755796432495\n"
     ]
    }
   ],
   "source": [
    "# Make Labels for validation\n",
    "\n",
    "start = time.time()\n",
    "make_labels_with_parts_recursive('./data/validation/labels')\n",
    "print(\"time :\", time.time() - start)"
   ]
  },
  {
   "cell_type": "code",
   "execution_count": null,
   "id": "e8e0c0e9",
   "metadata": {},
   "outputs": [],
   "source": []
  },
  {
   "cell_type": "code",
   "execution_count": null,
   "id": "b408f20b",
   "metadata": {},
   "outputs": [],
   "source": []
  },
  {
   "cell_type": "code",
   "execution_count": null,
   "id": "efe80cfa",
   "metadata": {},
   "outputs": [],
   "source": []
  },
  {
   "cell_type": "code",
   "execution_count": null,
   "id": "b7c668b5",
   "metadata": {},
   "outputs": [],
   "source": []
  },
  {
   "cell_type": "code",
   "execution_count": 25,
   "id": "4ab3b49d",
   "metadata": {},
   "outputs": [],
   "source": [
    "# Make dict from sorted_model_classes\n",
    "\n",
    "dict_classes = {i : c for i, c in enumerate(sorted_model_classes)}"
   ]
  },
  {
   "cell_type": "code",
   "execution_count": 26,
   "id": "ad49c095",
   "metadata": {},
   "outputs": [],
   "source": [
    "# Make yaml file for YOLOv5\n",
    "\n",
    "yaml_file = 'car_model_ignore_parts.yaml'\n",
    "\n",
    "yaml_data = dict(\n",
    "    path = \"YOLO_DATA_IGNORE_PARTS/data\",\n",
    "    train = \"train\",\n",
    "    val = \"validation\",\n",
    "    nc = len(dict_classes),\n",
    "    names = dict_classes\n",
    ")\n",
    "\n",
    "with open(yaml_file, 'w') as f:\n",
    "    yaml.dump(yaml_data, f, explicit_start = True, default_flow_style = False)"
   ]
  },
  {
   "cell_type": "code",
   "execution_count": 27,
   "id": "07b6b883",
   "metadata": {},
   "outputs": [
    {
     "data": {
      "text/plain": [
       "{0: 'HY_025_17',\n",
       " 1: 'HY_025_18',\n",
       " 2: 'HY_025_19',\n",
       " 3: 'HY_041_17',\n",
       " 4: 'HY_041_18',\n",
       " 5: 'HY_041_19',\n",
       " 6: 'HY_041_20',\n",
       " 7: 'HY_041_21',\n",
       " 8: 'HY_042_20',\n",
       " 9: 'HY_050_17',\n",
       " 10: 'HY_050_18',\n",
       " 11: 'HY_053_19',\n",
       " 12: 'HY_053_20',\n",
       " 13: 'HY_053_21',\n",
       " 14: 'HY_054_17',\n",
       " 15: 'HY_054_18',\n",
       " 16: 'HY_054_19',\n",
       " 17: 'HY_054_20',\n",
       " 18: 'HY_054_21',\n",
       " 19: 'HY_058_17',\n",
       " 20: 'HY_058_18',\n",
       " 21: 'HY_058_19',\n",
       " 22: 'HY_058_20',\n",
       " 23: 'HY_058_21',\n",
       " 24: 'HY_063_17',\n",
       " 25: 'HY_063_18',\n",
       " 26: 'HY_063_19',\n",
       " 27: 'HY_063_20',\n",
       " 28: 'HY_063_21',\n",
       " 29: 'HY_064_17',\n",
       " 30: 'HY_064_18',\n",
       " 31: 'HY_064_19',\n",
       " 32: 'HY_064_20',\n",
       " 33: 'HY_064_21',\n",
       " 34: 'HY_067_17',\n",
       " 35: 'HY_067_18',\n",
       " 36: 'HY_067_19',\n",
       " 37: 'HY_067_20',\n",
       " 38: 'HY_067_21',\n",
       " 39: 'HY_069_17',\n",
       " 40: 'HY_069_18',\n",
       " 41: 'HY_069_19',\n",
       " 42: 'HY_069_20',\n",
       " 43: 'HY_069_21',\n",
       " 44: 'HY_073_17',\n",
       " 45: 'HY_073_18',\n",
       " 46: 'HY_073_19',\n",
       " 47: 'HY_083_17',\n",
       " 48: 'HY_083_18',\n",
       " 49: 'HY_083_19',\n",
       " 50: 'HY_083_20',\n",
       " 51: 'HY_083_21',\n",
       " 52: 'HY_091_17',\n",
       " 53: 'HY_091_18',\n",
       " 54: 'HY_091_19',\n",
       " 55: 'HY_091_20',\n",
       " 56: 'HY_091_21',\n",
       " 57: 'HY_098_19',\n",
       " 58: 'HY_098_20',\n",
       " 59: 'HY_098_21',\n",
       " 60: 'HY_099_17',\n",
       " 61: 'HY_099_18',\n",
       " 62: 'HY_099_19',\n",
       " 63: 'HY_099_20',\n",
       " 64: 'HY_099_21',\n",
       " 65: 'KI_026_17',\n",
       " 66: 'KI_026_18',\n",
       " 67: 'KI_026_19',\n",
       " 68: 'KI_026_20',\n",
       " 69: 'KI_026_21',\n",
       " 70: 'KI_027_17',\n",
       " 71: 'KI_027_18',\n",
       " 72: 'KI_027_19',\n",
       " 73: 'KI_027_20',\n",
       " 74: 'KI_027_21',\n",
       " 75: 'KI_028_17',\n",
       " 76: 'KI_028_18',\n",
       " 77: 'KI_028_19',\n",
       " 78: 'KI_028_20',\n",
       " 79: 'KI_028_21',\n",
       " 80: 'KI_029_17',\n",
       " 81: 'KI_029_18',\n",
       " 82: 'KI_029_19',\n",
       " 83: 'KI_029_20',\n",
       " 84: 'KI_029_21',\n",
       " 85: 'KI_043_17',\n",
       " 86: 'KI_043_18',\n",
       " 87: 'KI_043_19',\n",
       " 88: 'KI_043_20',\n",
       " 89: 'KI_043_21',\n",
       " 90: 'KI_047_17',\n",
       " 91: 'KI_047_18',\n",
       " 92: 'KI_047_19',\n",
       " 93: 'KI_047_20',\n",
       " 94: 'KI_047_21',\n",
       " 95: 'KI_051_17',\n",
       " 96: 'KI_051_18',\n",
       " 97: 'KI_051_19',\n",
       " 98: 'KI_051_20',\n",
       " 99: 'KI_051_21',\n",
       " 100: 'KI_052_17',\n",
       " 101: 'KI_052_18',\n",
       " 102: 'KI_052_19',\n",
       " 103: 'KI_052_20',\n",
       " 104: 'KI_052_21',\n",
       " 105: 'KI_056_17',\n",
       " 106: 'KI_056_18',\n",
       " 107: 'KI_056_19',\n",
       " 108: 'KI_056_20',\n",
       " 109: 'KI_056_21',\n",
       " 110: 'KI_057_18',\n",
       " 111: 'KI_057_19',\n",
       " 112: 'KI_057_20',\n",
       " 113: 'KI_057_21',\n",
       " 114: 'KI_059_17',\n",
       " 115: 'KI_059_18',\n",
       " 116: 'KI_059_19',\n",
       " 117: 'KI_059_20',\n",
       " 118: 'KI_059_21',\n",
       " 119: 'KI_060_17',\n",
       " 120: 'KI_060_18',\n",
       " 121: 'KI_060_19',\n",
       " 122: 'KI_060_20',\n",
       " 123: 'KI_060_21',\n",
       " 124: 'KI_062_17',\n",
       " 125: 'KI_062_18',\n",
       " 126: 'KI_062_19',\n",
       " 127: 'KI_062_20',\n",
       " 128: 'KI_062_21',\n",
       " 129: 'KI_065_17',\n",
       " 130: 'KI_065_18',\n",
       " 131: 'KI_065_19',\n",
       " 132: 'KI_065_20',\n",
       " 133: 'KI_065_21',\n",
       " 134: 'KI_066_17',\n",
       " 135: 'KI_066_18',\n",
       " 136: 'KI_066_19',\n",
       " 137: 'KI_079_17',\n",
       " 138: 'KI_079_18',\n",
       " 139: 'KI_079_19',\n",
       " 140: 'KI_079_20',\n",
       " 141: 'KI_079_21'}"
      ]
     },
     "execution_count": 27,
     "metadata": {},
     "output_type": "execute_result"
    }
   ],
   "source": [
    "dict_classes"
   ]
  },
  {
   "cell_type": "code",
   "execution_count": null,
   "id": "06cc2683",
   "metadata": {},
   "outputs": [],
   "source": []
  }
 ],
 "metadata": {
  "kernelspec": {
   "display_name": "deepLearning",
   "language": "python",
   "name": "deeplearning"
  },
  "language_info": {
   "codemirror_mode": {
    "name": "ipython",
    "version": 3
   },
   "file_extension": ".py",
   "mimetype": "text/x-python",
   "name": "python",
   "nbconvert_exporter": "python",
   "pygments_lexer": "ipython3",
   "version": "3.8.13"
  }
 },
 "nbformat": 4,
 "nbformat_minor": 5
}
